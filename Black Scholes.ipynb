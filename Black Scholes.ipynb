{
 "cells": [
  {
   "cell_type": "code",
   "execution_count": 1,
   "metadata": {},
   "outputs": [],
   "source": [
    "from scipy import stats\n",
    "from numpy import log,exp,sqrt"
   ]
  },
  {
   "cell_type": "code",
   "execution_count": 2,
   "metadata": {},
   "outputs": [],
   "source": [
    "def call_option_price(stock_price,strike_price,expiry,risk_free_rate,sigma):\n",
    "    # first we have to calculate d1 and d2 parameters\n",
    "    d1 = (log(stock_price/strike_price)+(risk_free_rate+sigma*sigma/2.0)*expiry)/(sigma*sqrt(expiry))\n",
    "    d2=d1-sigma*sqrt(expiry)\n",
    "    print(\"The d1 and d2 parameters: %s, %s\" % (d1, d2))\n",
    "    # use the N(x) to calculate the price of the option\n",
    "    return stock_price*stats.norm.cdf(d1)-E*exp(-risk_free_rate*expiry)*stats.norm.cdf(d2)"
   ]
  },
  {
   "cell_type": "code",
   "execution_count": 3,
   "metadata": {},
   "outputs": [],
   "source": [
    "def put_option_price(stock_price,strike_price,expiry,risk_free_rate,sigma):\n",
    "    # first we have to calculate d1 and d2 parameters\n",
    "    d1 = (log(stock_price/strike_price)+(risk_free_rate+sigma*sigma/2.0)*expiry)/(sigma*sqrt(expiry))\n",
    "    d2=d1-sigma*sqrt(expiry)\n",
    "    print(\"The d1 and d2 parameters: %s, %s\" % (d1, d2))\n",
    "    # use the N(x) to calculate the price of the option\n",
    "    return -stock_price*stats.norm.cdf(-d1)+E*exp(-risk_free_rate*expiry)*stats.norm.cdf(-d2)"
   ]
  },
  {
   "cell_type": "code",
   "execution_count": 4,
   "metadata": {},
   "outputs": [],
   "source": [
    "# underlying stock price at t=0\n",
    "S0 = 100\n",
    "# strike price\n",
    "E = 100\n",
    "# expiry 1year=365days\n",
    "T = 1\n",
    "# risk-free rate\n",
    "rf = 0.05\n",
    "# volatility of the underlying stock\n",
    "sigma = 0.2"
   ]
  },
  {
   "cell_type": "code",
   "execution_count": 5,
   "metadata": {},
   "outputs": [
    {
     "name": "stdout",
     "output_type": "stream",
     "text": [
      "The d1 and d2 parameters: 0.35000000000000003, 0.15000000000000002\n",
      "Call option price according to Black-Scholes model:  10.450583572185565\n"
     ]
    }
   ],
   "source": [
    "print(\"Call option price according to Black-Scholes model: \",\n",
    "          call_option_price(S0, E, T, rf, sigma))"
   ]
  },
  {
   "cell_type": "code",
   "execution_count": 6,
   "metadata": {},
   "outputs": [
    {
     "name": "stdout",
     "output_type": "stream",
     "text": [
      "The d1 and d2 parameters: 0.35000000000000003, 0.15000000000000002\n",
      "Put option price according to Black-Scholes model:  5.573526022256971\n"
     ]
    }
   ],
   "source": [
    "print(\"Put option price according to Black-Scholes model: \",\n",
    "          put_option_price(S0, E, T, rf, sigma))\n"
   ]
  }
 ],
 "metadata": {
  "kernelspec": {
   "display_name": "Python 3",
   "language": "python",
   "name": "python3"
  },
  "language_info": {
   "codemirror_mode": {
    "name": "ipython",
    "version": 3
   },
   "file_extension": ".py",
   "mimetype": "text/x-python",
   "name": "python",
   "nbconvert_exporter": "python",
   "pygments_lexer": "ipython3",
   "version": "3.9.1"
  }
 },
 "nbformat": 4,
 "nbformat_minor": 4
}
